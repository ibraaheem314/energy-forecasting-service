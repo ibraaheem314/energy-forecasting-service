{
  "cells": [
    {
      "cell_type": "markdown",
      "metadata": {},
      "source": [
        "# 🔍 Exploration des Données - Prévision Énergétique\n",
        "\n",
        "Ce notebook présente l'exploration des données pour le projet de prévision de consommation énergétique.\n",
        "\n",
        "## Objectifs:\n",
        "- Comprendre la structure des données\n",
        "- Analyser les patterns de consommation\n",
        "- Identifier les corrélations avec les facteurs externes\n",
        "- Préparer les features pour le machine learning\n"
      ]
    }
  ],
  "metadata": {
    "language_info": {
      "name": "python"
    }
  },
  "nbformat": 4,
  "nbformat_minor": 2
}
